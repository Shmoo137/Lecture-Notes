{
 "cells": [
  {
   "cell_type": "markdown",
   "source": [
    "# Title of the figure (fig. 1.3)\n",
    "## Author:Borja Requena "
   ],
   "metadata": {}
  },
  {
   "cell_type": "code",
   "execution_count": 2,
   "source": [
    "%matplotlib inline\r\n",
    "import matplotlib.pyplot as plt\r\n",
    "import numpy as np\r\n",
    "import seaborn as sns\r\n",
    "from pathlib import Path"
   ],
   "outputs": [],
   "metadata": {}
  },
  {
   "cell_type": "code",
   "execution_count": 3,
   "source": [
    "# Import custom font\r\n",
    "import matplotlib.font_manager as fm\r\n",
    "\r\n",
    "path = Path(r'../fonts/Hero New Regular.otf') # for text only\r\n",
    "path_abc = r'../fonts/Hero New Medium.otf' # for (a), (b), etc.\r\n",
    "custom_font = fm.FontProperties(fname=path)\r\n",
    "custom_font_abc = fm.FontProperties(fname=path_abc)"
   ],
   "outputs": [],
   "metadata": {}
  },
  {
   "cell_type": "code",
   "execution_count": 4,
   "source": [
    "# Import colors (e.g., as 1D and dictionary)\r\n",
    "import pickle\r\n",
    "\r\n",
    "# Use colors as a dictionary\r\n",
    "infile = open(Path('../colors/colors_dict.pkl'),'rb')\r\n",
    "colors_dict = pickle.load(infile)\r\n",
    "infile.close()\r\n",
    "\r\n",
    "# Import 1D array of colors\r\n",
    "infile = open(Path('../colors/colors_1D.pkl'),'rb')\r\n",
    "colors_1D = pickle.load(infile)\r\n",
    "infile.close()"
   ],
   "outputs": [],
   "metadata": {}
  },
  {
   "cell_type": "code",
   "execution_count": 5,
   "source": [
    "x = np.linspace(0, 1, 1000)\r\n",
    "y = x*(1-x)"
   ],
   "outputs": [],
   "metadata": {}
  },
  {
   "cell_type": "code",
   "execution_count": 60,
   "source": [
    "# Seaborn style set\r\n",
    "sns.set(style=\"whitegrid\", rc={'figure.figsize':(4,3.375)}) # in inches\r\n",
    "sns.set_style(\"whitegrid\", {\"grid.linestyle\": 'dashed', \r\n",
    "            \"grid.color\": colors_dict[\"blue\"][\"light\"], \r\n",
    "            \"axes.edgecolor\": colors_dict[\"blue\"][\"dark\"],\r\n",
    "            \"axes.labelcolor\": colors_dict[\"blue\"][\"dark\"],\r\n",
    "            'xtick.color': colors_dict[\"blue\"][\"dark\"],\r\n",
    "            'ytick.color': colors_dict[\"blue\"][\"dark\"],\r\n",
    "            })\r\n",
    "\r\n",
    "fig, ax = plt.subplots()\r\n",
    "\r\n",
    "ax.plot(x, y, color=colors_dict[\"purple\"][\"dark\"])\r\n",
    "ax.set_xlabel(r'$\\pi_\\theta($up$)$', size=12, fontproperties=custom_font)\r\n",
    "ax.set_ylabel(r'$\\Delta\\theta\\propto\\pi_\\theta($up$)(1-\\pi_\\theta($up$))$', size=12, fontproperties=custom_font)\r\n",
    "ax.tick_params(labelsize=10)\r\n",
    "plt.tight_layout()\r\n",
    "ax.axis([-0.05, 1.05, -0.02, 0.32])\r\n",
    "\r\n",
    "yticks = [0,0.1,0.2,0.3]\r\n",
    "xticks = np.arange(0.,1.1,0.25)\r\n",
    "ax.set_yticks(yticks)\r\n",
    "ax.set_xticks(xticks)\r\n",
    "\r\n",
    "ax.set_yticklabels(ax.get_yticks(), font=path, fontsize=12)\r\n",
    "ax.set_xticklabels(ax.get_xticks(), font=path, fontsize=12)\r\n",
    "\r\n",
    "#plt.show()\r\n",
    "plt.savefig('fig6-4.pdf')"
   ],
   "outputs": [
    {
     "output_type": "stream",
     "name": "stderr",
     "text": [
      "'Hero New Regular.otf' can not be subsetted into a Type 3 font. The entire font will be embedded in the output.\n"
     ]
    },
    {
     "output_type": "display_data",
     "data": {
      "image/png": "[encoded data removed]",
      "text/plain": [
       "<Figure size 288x243 with 1 Axes>"
      ]
     },
     "metadata": {}
    }
   ],
   "metadata": {}
  },
  {
   "cell_type": "code",
   "execution_count": null,
   "source": [],
   "outputs": [],
   "metadata": {}
  }
 ],
 "metadata": {
  "interpreter": {
   "hash": "fcb4468fb47c6127ab44332c3f3439a85914e2850b2efd86c12e06a03080f93f"
  },
  "kernelspec": {
   "name": "python3",
   "display_name": "Python 3.7.4 64-bit ('base': conda)"
  },
  "language_info": {
   "codemirror_mode": {
    "name": "ipython",
    "version": 3
   },
   "file_extension": ".py",
   "mimetype": "text/x-python",
   "name": "python",
   "nbconvert_exporter": "python",
   "pygments_lexer": "ipython3",
   "version": "3.7.4"
  }
 },
 "nbformat": 4,
 "nbformat_minor": 4
}