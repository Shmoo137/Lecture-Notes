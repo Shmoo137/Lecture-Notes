{
 "cells": [
  {
   "cell_type": "markdown",
   "metadata": {},
   "source": [
    "# Toy example of a two-dimensional data set in the input and feature space (fig. 4.1)\n",
    "## Author: Alexander Gresch"
   ]
  },
  {
   "cell_type": "code",
   "execution_count": 1,
   "metadata": {},
   "outputs": [],
   "source": [
    "%matplotlib inline\n",
    "import matplotlib.pyplot as plt\n",
    "import numpy as np\n",
    "import seaborn as sns"
   ]
  },
  {
   "cell_type": "code",
   "execution_count": 2,
   "metadata": {},
   "outputs": [],
   "source": [
    "path_to_colors = \"../colors/\""
   ]
  },
  {
   "cell_type": "code",
   "execution_count": 3,
   "metadata": {},
   "outputs": [],
   "source": [
    "# Import custom font\n",
    "import matplotlib.font_manager as fm\n",
    "\n",
    "path = r'../fonts/Hero New Regular.otf' # for text only\n",
    "#path = r'your-path\\fonts\\Hero New Medium.otf' # for (a), (b), etc.\n",
    "custom_font = fm.FontProperties(fname=path)"
   ]
  },
  {
   "cell_type": "code",
   "execution_count": 4,
   "metadata": {},
   "outputs": [],
   "source": [
    "# Import colors (e.g., as 1D and dictionary)\n",
    "import pickle\n",
    "\n",
    "# Use colors as a dictionary\n",
    "infile = open(path_to_colors+'colors_dict.pkl','rb')\n",
    "colors_dict = pickle.load(infile)\n",
    "infile.close()\n",
    "\n",
    "# Import 1D array of colors\n",
    "infile = open(path_to_colors+'colors_1D.pkl','rb')\n",
    "colors_1D = pickle.load(infile)\n",
    "infile.close()\n"
   ]
  },
  {
   "cell_type": "code",
   "execution_count": 5,
   "metadata": {},
   "outputs": [],
   "source": [
    "# derandomized data generation\n",
    "N = 100\n",
    "r = np.random.RandomState(42)\n",
    "radii = np.zeros((2,N))\n",
    "for i,rrange in enumerate(([0.1,0.8],[1.2,1.9])):\n",
    "    radii[i] = r.uniform(*rrange,size=N)\n",
    "angles  = r.uniform(0,2*np.pi,size=(2,N))"
   ]
  },
  {
   "cell_type": "code",
   "execution_count": 7,
   "metadata": {},
   "outputs": [
    {
     "name": "stderr",
     "output_type": "stream",
     "text": [
      "*c* argument looks like a single numeric RGB or RGBA sequence, which should be avoided as value-mapping will have precedence in case its length matches with *x* & *y*.  Please use the *color* keyword-argument or provide a 2D array with a single row if you intend to specify the same RGB or RGBA value for all points.\n",
      "*c* argument looks like a single numeric RGB or RGBA sequence, which should be avoided as value-mapping will have precedence in case its length matches with *x* & *y*.  Please use the *color* keyword-argument or provide a 2D array with a single row if you intend to specify the same RGB or RGBA value for all points.\n"
     ]
    },
    {
     "data": {
      "image/png": "[encoded data removed]",
      "text/plain": [
       "<Figure size 378x243 with 1 Axes>"
      ]
     },
     "metadata": {},
     "output_type": "display_data"
    }
   ],
   "source": [
    "# Seaborn style set\n",
    "sns.set(style=\"whitegrid\", rc={'figure.figsize':(5.25,3.375)}) # in inches\n",
    "sns.set_style(\"whitegrid\", {'grid.linestyle': 'dashed', \"grid.color\": \"0.5\", 'axes.edgecolor': '.1'})\n",
    "\n",
    "for color,radius,angle in zip(colors_dict.values(),radii,angles):\n",
    "    plt.scatter(radius*np.cos(angle),radius*np.sin(angle),c=color[\"dark\"])\n",
    "angle = np.linspace(0,2*np.pi,100)\n",
    "plt.plot(np.cos(angle),np.sin(angle),\"k-\")\n",
    "plt.xlim(-2,2)\n",
    "plt.xlabel(\"$x$\",fontsize=\"xx-large\",fontproperties=custom_font)\n",
    "plt.xticks([])\n",
    "plt.ylim(-2,2)\n",
    "plt.ylabel(\"$y$\",fontsize=\"xx-large\",fontproperties=custom_font,rotation=0,ha=\"right\")\n",
    "plt.yticks([])\n",
    "plt.gca().set_aspect('equal')\n",
    "#plt.savefig(\"kernel_trick_nonsep.pdf\",orientation=\"landscape\",dpi=600,bbox_inches=\"tight\")"
   ]
  },
  {
   "cell_type": "code",
   "execution_count": 8,
   "metadata": {},
   "outputs": [
    {
     "name": "stderr",
     "output_type": "stream",
     "text": [
      "*c* argument looks like a single numeric RGB or RGBA sequence, which should be avoided as value-mapping will have precedence in case its length matches with *x* & *y*.  Please use the *color* keyword-argument or provide a 2D array with a single row if you intend to specify the same RGB or RGBA value for all points.\n",
      "*c* argument looks like a single numeric RGB or RGBA sequence, which should be avoided as value-mapping will have precedence in case its length matches with *x* & *y*.  Please use the *color* keyword-argument or provide a 2D array with a single row if you intend to specify the same RGB or RGBA value for all points.\n"
     ]
    },
    {
     "data": {
      "image/png": "[encoded data removed]",
      "text/plain": [
       "<Figure size 378x243 with 1 Axes>"
      ]
     },
     "metadata": {},
     "output_type": "display_data"
    }
   ],
   "source": [
    "for color,radius,angle in zip(colors_dict.values(),radii**2,angles):\n",
    "    plt.scatter(radius*np.cos(angle)**2,radius*np.sin(angle)**2,c=color[\"dark\"])\n",
    "plt.plot([-1,2],[2,-1],\"k-\")\n",
    "plt.xlim(-0.1,1.9**2+0.1)\n",
    "plt.xlabel(\"$x^2$\",fontsize=\"xx-large\",fontproperties=custom_font)\n",
    "plt.xticks([])\n",
    "plt.ylim(-0.1,1.9**2+0.1)\n",
    "plt.ylabel(\"$y^2$\",fontsize=\"xx-large\",fontproperties=custom_font,rotation=0,ha=\"right\",labelpad=-220)\n",
    "plt.yticks([])\n",
    "plt.gca().set_aspect('equal')\n",
    "#plt.savefig(\"kernel_trick_sep.pdf\",orientation=\"landscape\",dpi=600,bbox_inches=\"tight\")"
   ]
  },
  {
   "cell_type": "code",
   "execution_count": null,
   "metadata": {},
   "outputs": [],
   "source": []
  }
 ],
 "metadata": {
  "interpreter": {
   "hash": "fcb4468fb47c6127ab44332c3f3439a85914e2850b2efd86c12e06a03080f93f"
  },
  "kernelspec": {
   "display_name": "Python 3 (ipykernel)",
   "language": "python",
   "name": "python3"
  },
  "language_info": {
   "codemirror_mode": {
    "name": "ipython",
    "version": 3
   },
   "file_extension": ".py",
   "mimetype": "text/x-python",
   "name": "python",
   "nbconvert_exporter": "python",
   "pygments_lexer": "ipython3",
   "version": "3.9.11"
  }
 },
 "nbformat": 4,
 "nbformat_minor": 4
}
