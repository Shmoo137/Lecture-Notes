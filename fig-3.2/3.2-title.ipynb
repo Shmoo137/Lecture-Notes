{
 "cells": [
  {
   "cell_type": "markdown",
   "source": [
    "# Title of the figure (fig. 1.3)\r\n",
    "## Author: "
   ],
   "metadata": {}
  },
  {
   "cell_type": "code",
   "execution_count": 159,
   "source": [
    "%matplotlib inline\r\n",
    "import matplotlib.pyplot as plt\r\n",
    "import numpy as np\r\n",
    "import seaborn as sns"
   ],
   "outputs": [],
   "metadata": {}
  },
  {
   "cell_type": "code",
   "execution_count": 160,
   "source": [
    "# Import custom font\r\n",
    "import matplotlib.font_manager as fm\r\n",
    "\r\n",
    "path = r'your-path\\fonts\\Hero New Regular.otf' # for text only\r\n",
    "#path = r'your-path\\fonts\\Hero New Medium.otf' # for (a), (b), etc.\r\n",
    "custom_font = fm.FontProperties(fname=path)"
   ],
   "outputs": [],
   "metadata": {}
  },
  {
   "cell_type": "code",
   "execution_count": 161,
   "source": [
    "# Import colors (e.g., as 1D and dictionary)\r\n",
    "import pickle\r\n",
    "\r\n",
    "# Use colors as a dictionary\r\n",
    "infile = open('your-path\\colors\\colors_dict.pkl','rb')\r\n",
    "colors_dict = pickle.load(infile)\r\n",
    "infile.close()\r\n",
    "\r\n",
    "# Import 1D array of colors\r\n",
    "infile = open('your-path\\colors\\colors_1D.pkl','rb')\r\n",
    "colors_1D = pickle.load(infile)\r\n",
    "infile.close()\r\n"
   ],
   "outputs": [],
   "metadata": {}
  },
  {
   "cell_type": "code",
   "execution_count": null,
   "source": [
    "# Seaborn style set\r\n",
    "sns.set(style=\"whitegrid\", rc={'figure.figsize':(5.25,3.375)}) # in inches\r\n",
    "sns.set_style(\"whitegrid\", {'grid.linestyle': 'dashed', \"grid.color\": \"0.5\", 'axes.edgecolor': '.1'})\r\n",
    "\r\n",
    "plt.plot(x, y, color=colors_dict[\"blue\"][\"dark\"], label=r'$n \\, \\to  \\, +\\infty$')\r\n",
    "plt.xlabel(r'$\\alpha = \\frac{n}{d}$', size=12, fontproperties=custom_font)\r\n",
    "plt.ylabel(r'$p_{\\mathrm{R}}$', size=12, fontproperties=custom_font)\r\n",
    "plt.tick_params(labelsize=10)\r\n",
    "plt.tight_layout()\r\n",
    "plt.legend(fontsize = 10, framealpha = 0.9)\r\n",
    "plt.axis([1.0, 3.0, -0.05, 1.05])\r\n",
    "plt.yticks(np.arange(0,1.1,0.25))\r\n",
    "plt.xticks(np.arange(1,3.1,0.5))\r\n",
    "\r\n",
    "#plt.show()\r\n",
    "plt.savefig('sth.pdf')"
   ],
   "outputs": [],
   "metadata": {}
  },
  {
   "cell_type": "code",
   "execution_count": null,
   "source": [],
   "outputs": [],
   "metadata": {}
  }
 ],
 "metadata": {
  "orig_nbformat": 4,
  "language_info": {
   "name": "python",
   "version": "3.7.4",
   "mimetype": "text/x-python",
   "codemirror_mode": {
    "name": "ipython",
    "version": 3
   },
   "pygments_lexer": "ipython3",
   "nbconvert_exporter": "python",
   "file_extension": ".py"
  },
  "kernelspec": {
   "name": "python3",
   "display_name": "Python 3.7.4 64-bit ('base': conda)"
  },
  "interpreter": {
   "hash": "fcb4468fb47c6127ab44332c3f3439a85914e2850b2efd86c12e06a03080f93f"
  }
 },
 "nbformat": 4,
 "nbformat_minor": 2
}